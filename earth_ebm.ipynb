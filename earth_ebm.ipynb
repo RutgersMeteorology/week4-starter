{
 "cells": [
  {
   "cell_type": "markdown",
   "id": "48369654-06f2-4acd-b239-31529acb3447",
   "metadata": {},
   "source": [
    "# Energy Balance Models for Earth"
   ]
  },
  {
   "cell_type": "code",
   "execution_count": null,
   "id": "46c71104-215c-422b-88d5-20999e40e09f",
   "metadata": {},
   "outputs": [],
   "source": [
    "import numpy as np\n",
    "from scipy.optimize import fsolve\n",
    "import matplotlib.pyplot as plt"
   ]
  },
  {
   "cell_type": "markdown",
   "id": "3cdc3dfc-d456-42d0-82c8-dc65d7fa51a8",
   "metadata": {},
   "source": [
    "## No albedo feedback"
   ]
  },
  {
   "cell_type": "code",
   "execution_count": null,
   "id": "67bd7332-2a19-416f-8701-64068ffa8e23",
   "metadata": {},
   "outputs": [],
   "source": [
    "# Define model constants for Earth (no albedo feedback)\n",
    "S = 1367\n",
    "alpha = 0.3\n",
    "epsilon = 0.6\n",
    "sigma = 5.6703744e-8"
   ]
  },
  {
   "cell_type": "code",
   "execution_count": null,
   "id": "665b15e0-b602-45e7-95ad-fb6f6ed3e246",
   "metadata": {},
   "outputs": [],
   "source": [
    "# Analytical equilibrium temperature calculation\n",
    "TK = ((1-alpha)*S/(4*epsilon*sigma))**(1/4)\n",
    "TC = TK - 273.15\n",
    "TF = (9/5)*TC + 32\n",
    "print(TK, TC, TF)"
   ]
  },
  {
   "cell_type": "markdown",
   "id": "08e8e776-a86e-4da3-84a8-6858330e1e8f",
   "metadata": {},
   "source": [
    "# Question 1 [6 pts]\n",
    "\n",
    "Determine the value of epsilon that would increase global mean temperature by 2 K. Now keeping that new value for epsilon fixed, determine what the Earth's albedo would need to be to return the global mean temperature to its original value. (Some \"geoengineering\" proposals are based on this idea.)"
   ]
  },
  {
   "cell_type": "code",
   "execution_count": null,
   "id": "7191140a-af38-438a-bbc0-af1005ab1d7a",
   "metadata": {},
   "outputs": [],
   "source": []
  },
  {
   "cell_type": "code",
   "execution_count": null,
   "id": "7af6bb67-3fd1-4ddb-9271-02429e5bd601",
   "metadata": {},
   "outputs": [],
   "source": []
  },
  {
   "cell_type": "markdown",
   "id": "edb1a2eb-73aa-4712-9ebb-51e15707c292",
   "metadata": {},
   "source": [
    "## Albedo feedback"
   ]
  },
  {
   "cell_type": "code",
   "execution_count": null,
   "id": "17b75a38-f0c3-4101-9ec9-9c8268f28949",
   "metadata": {},
   "outputs": [],
   "source": [
    "def alpha(T):\n",
    "    \"\"\"Kaper and Engler (2013) parameterization of albedo feedback\"\"\"\n",
    "    return 0.5 - 0.2*np.tanh((T-265)/10)"
   ]
  },
  {
   "cell_type": "code",
   "execution_count": null,
   "id": "4ad72dd2-f7a5-4641-9ca2-1ff76a82045c",
   "metadata": {},
   "outputs": [],
   "source": [
    "# Energy balance model with albedo feedback\n",
    "def earth_energy_balance(T):\n",
    "    E_in = (1 - alpha(T)) * S / 4\n",
    "    E_out = epsilon * sigma * T**4\n",
    "    return E_in - E_out"
   ]
  },
  {
   "cell_type": "code",
   "execution_count": null,
   "id": "3065a3f2-9240-4818-99b1-3df9f5ef7225",
   "metadata": {},
   "outputs": [],
   "source": [
    "# Plot of energy (im)balance as function of T\n",
    "T = np.linspace(200,330)\n",
    "net_energy = earth_energy_balance(T)\n",
    "plt.plot(T, net_energy)\n",
    "plt.hlines(0, T.min(), T.max(), color='k')\n",
    "plt.xlim(T.min(), T.max())\n",
    "plt.xlabel('Earth Mean Temperature (K)')\n",
    "plt.ylabel('Energy Imbalance (W/m2)')\n",
    "plt.show()"
   ]
  },
  {
   "cell_type": "markdown",
   "id": "0921a0c2-7384-4aa7-b0d2-4c6d90f80050",
   "metadata": {},
   "source": [
    "# Question 2 [3 pts]\n",
    "From the plot above we can see there are three solutions for the energy balance model with an albedo feedback. (The coldest is known as the \"snowball Earth\" solution.) Find the three solutions numerically."
   ]
  },
  {
   "cell_type": "code",
   "execution_count": null,
   "id": "46b42ca9-65b3-48ca-8c5f-6cc26f37baf1",
   "metadata": {},
   "outputs": [],
   "source": []
  },
  {
   "cell_type": "markdown",
   "id": "6433418c-65d8-4315-8b67-3374e529c957",
   "metadata": {},
   "source": [
    "# Question 3 [3 pts]\n",
    "In the following cell, we repeat the calculation from class where we model the mean temperature as a function of time starting from a non-equilibrium temperature. Using this as a starting point, construct and plot three time series, one for each solution from Question 2, but round each solution to the nearest integer for use as the starting point, and produce 30-year \"forecasts\". What is special about the middle solution? (You might want to try the middle solution rounded up as well.)"
   ]
  },
  {
   "cell_type": "code",
   "execution_count": null,
   "id": "1ecb24e4-cb0e-438d-a724-81165687c64d",
   "metadata": {},
   "outputs": [],
   "source": [
    "C = 2.0983e8\n",
    "T0 = 300\n",
    "seconds_per_month = (365.25 / 12) * 24 * 60 * 60\n",
    "dt = seconds_per_month\n",
    "\n",
    "# Initial condition\n",
    "T = [T0]\n",
    "t = [0]\n",
    "# Forecast 10 years (120 months) into the future\n",
    "for i in range(120):\n",
    "    dT = earth_energy_balance(T[i]) * dt / C\n",
    "    T.append(T[i] + dT)\n",
    "    t.append(t[i] + dt)"
   ]
  },
  {
   "cell_type": "code",
   "execution_count": null,
   "id": "6272c2cf-5d7e-4b8d-85c0-47a3d29a4dba",
   "metadata": {},
   "outputs": [],
   "source": [
    "t = np.array(t)\n",
    "t /= seconds_per_month\n",
    "T = np.array(T)\n",
    "\n",
    "plt.plot(t, T)"
   ]
  },
  {
   "cell_type": "code",
   "execution_count": null,
   "id": "f235ac49-2423-4088-be52-bbd78f4c9cfc",
   "metadata": {},
   "outputs": [],
   "source": []
  },
  {
   "cell_type": "code",
   "execution_count": null,
   "id": "bc839d1a-440f-4874-98bb-05aa1a167316",
   "metadata": {},
   "outputs": [],
   "source": []
  },
  {
   "cell_type": "code",
   "execution_count": null,
   "id": "aa931c24-fda8-4110-845e-3ab99d7c18b0",
   "metadata": {},
   "outputs": [],
   "source": []
  },
  {
   "cell_type": "code",
   "execution_count": null,
   "id": "75a5e08d-424a-498a-ad2e-fe0263558dae",
   "metadata": {},
   "outputs": [],
   "source": []
  },
  {
   "cell_type": "markdown",
   "id": "727fc147-8c47-49fd-808e-b22930f120ba",
   "metadata": {},
   "source": [
    "# Question 4 [8 pts]\n",
    "The function below represents the external forcing that might result from a super-volcano eruption (say, from the Yellowstone caldera). A plot is also provided."
   ]
  },
  {
   "cell_type": "code",
   "execution_count": null,
   "id": "2034683f-4971-4c0c-9491-1b330bb3a130",
   "metadata": {},
   "outputs": [],
   "source": [
    "def volcano(t):\n",
    "    \"\"\"Computes super-volcano forcing as function of time (t in seconds)\"\"\"\n",
    "    vmax = 64.6\n",
    "    t_month = t / seconds_per_month\n",
    "    if t_month < 120:\n",
    "        return vmax*t_month/120 - vmax\n",
    "    else:\n",
    "        return 0\n",
    "volcano = np.vectorize(volcano)"
   ]
  },
  {
   "cell_type": "code",
   "execution_count": null,
   "id": "70afa78f-2294-4286-9807-fec561dad587",
   "metadata": {},
   "outputs": [],
   "source": [
    "t_month = np.linspace(0, 240)\n",
    "t_sec = t_month * seconds_per_month\n",
    "v = volcano(t_sec)\n",
    "plt.plot(t_month, v)\n",
    "plt.show()"
   ]
  },
  {
   "cell_type": "markdown",
   "id": "8d1c0b22-d9d6-4b58-a296-952f857d819f",
   "metadata": {},
   "source": [
    "The plot shows that the forcing in this idealized scenario linearly relaxes back to 0 after 10 years (120 months). How would the Earth's mean temperature respond to this event? Plot a 30-year time series of the Earth's mean temperature using the third (warmest) solution from Question 2 as your initial condition. Your time series will be based on a version of the energy balance model with the volcanic forcing included."
   ]
  },
  {
   "cell_type": "code",
   "execution_count": null,
   "id": "87ff1bb5-4b7b-4c4d-a351-061bbb019eaa",
   "metadata": {},
   "outputs": [],
   "source": []
  }
 ],
 "metadata": {
  "kernelspec": {
   "display_name": "Python 3 (ipykernel)",
   "language": "python",
   "name": "python3"
  },
  "language_info": {
   "codemirror_mode": {
    "name": "ipython",
    "version": 3
   },
   "file_extension": ".py",
   "mimetype": "text/x-python",
   "name": "python",
   "nbconvert_exporter": "python",
   "pygments_lexer": "ipython3",
   "version": "3.10.2"
  }
 },
 "nbformat": 4,
 "nbformat_minor": 5
}
